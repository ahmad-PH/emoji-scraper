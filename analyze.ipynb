{
 "cells": [
  {
   "cell_type": "code",
   "execution_count": 7,
   "metadata": {},
   "outputs": [],
   "source": [
    "import json\n",
    "\n",
    "# Load the data from the JSON file\n",
    "with open('emojis_merged.json', 'r') as f:\n",
    "    data = json.load(f)\n",
    "\n",
    "# Check each category\n",
    "for category, emojis in data.items():\n",
    "    # Check each emoji in the category\n",
    "    for emoji in emojis:\n",
    "        # If the emoji doesn't have a 'keywords' field or it's not a list, print the shortcode\n",
    "        if 'keywords' not in emoji or not isinstance(emoji['keywords'], list):\n",
    "            print(f\"Emoji {emoji['shortcode']} does not have a keywords array.\")"
   ]
  },
  {
   "cell_type": "code",
   "execution_count": 6,
   "metadata": {},
   "outputs": [],
   "source": [
    "# Fill empty keywords with an empty array\n",
    "import json\n",
    "\n",
    "with open('emojis_merged.json', 'r') as f:\n",
    "    data = json.load(f)\n",
    "\n",
    "for category, emojis in data.items():\n",
    "    for emoji in emojis:\n",
    "        # If the emoji doesn't have a 'keywords' field or it's not a list, assign an empty array\n",
    "        if 'keywords' not in emoji or not isinstance(emoji['keywords'], list):\n",
    "            emoji['keywords'] = []\n",
    "\n",
    "with open('emojis_merged.json', 'w', encoding='utf-8') as f:\n",
    "    json.dump(data, f, indent=4, ensure_ascii=False)"
   ]
  },
  {
   "cell_type": "code",
   "execution_count": null,
   "metadata": {},
   "outputs": [],
   "source": []
  }
 ],
 "metadata": {
  "kernelspec": {
   "display_name": "Python 3",
   "language": "python",
   "name": "python3"
  },
  "language_info": {
   "codemirror_mode": {
    "name": "ipython",
    "version": 3
   },
   "file_extension": ".py",
   "mimetype": "text/x-python",
   "name": "python",
   "nbconvert_exporter": "python",
   "pygments_lexer": "ipython3",
   "version": "3.9.6"
  }
 },
 "nbformat": 4,
 "nbformat_minor": 2
}
